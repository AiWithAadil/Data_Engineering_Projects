{
 "cells": [
  {
   "cell_type": "code",
   "execution_count": 1,
   "id": "06994ddf-0914-4eb0-83ed-2e5a063ec0b8",
   "metadata": {},
   "outputs": [],
   "source": [
    "import pandas as pd\n",
    "import numpy as np\n",
    "import sqlalchemy as sal\n",
    "from datetime import datetime"
   ]
  },
  {
   "cell_type": "code",
   "execution_count": 2,
   "id": "33db4689-3823-4067-82c9-b65d4330e5cf",
   "metadata": {},
   "outputs": [],
   "source": [
    "def Log_process(message):\n",
    "   with open('./Netflix_log_process.txt', 'a') as f:\n",
    "        f.write(f'{datetime.now()}: {message}.\\n')"
   ]
  },
  {
   "cell_type": "code",
   "execution_count": 3,
   "id": "568c90b3-e0f7-43f8-b865-104fe9ad4dd2",
   "metadata": {},
   "outputs": [],
   "source": [
    "def Extract(path):\n",
    "    Log_process('Extract part Start:')\n",
    "    df = pd.read_csv(path)\n",
    "    \n",
    "    Log_process('Extract part Successfully End:')\n",
    "    return df\n"
   ]
  },
  {
   "cell_type": "code",
   "execution_count": 5,
   "id": "7b325ac3-5c4b-4bd7-a8c6-f4793f5a5ab4",
   "metadata": {},
   "outputs": [],
   "source": [
    "def Transformation(df):\n",
    "    Log_process('Transformation part Start:')\n",
    "    data = pd.DataFrame(df)\n",
    "    df_cleaned = data.dropna()\n",
    "    df_cleaned['director'].unique()\n",
    "    Unique = pd.DataFrame(df_cleaned)\n",
    "    Log_process('Data Successfully Clean & Get Uniques directors:')\n",
    "    \n",
    "    country_counts = df_cleaned.groupby('country').size().reset_index(name='Number of TV shows and movies')\n",
    "    CountryCount = pd.DataFrame(country_counts)\n",
    "    Log_process('Data Successfully Count Tv shows & Movies:')\n",
    "\n",
    "    genres = df_cleaned['listed_in'].str.split(',').explode().str.strip()\n",
    "    genre_counts = genres.value_counts().reset_index(name='count')\n",
    "    top_5_genres = genre_counts.head(5)\n",
    "    top5 = pd.DataFrame(top_5_genres)\n",
    "    Log_process('Data Successfully Get top 5 genres:')\n",
    "\n",
    "    tvShows = df_cleaned[df_cleaned['type'] == 'TV Show']\n",
    "    SeasonsCount = tvShows[tvShows['duration'].str.contains('Seasons')]\n",
    "    SeasonsResult = SeasonsCount[['type','duration']]\n",
    "    SeasonsResults = pd.DataFrame(SeasonsResult)\n",
    "    Log_process('Data Successfully Get grater than 1 seasons:')\n",
    "\n",
    "    Unique.to_csv('Unique_Directors.csv', index=False)\n",
    "    CountryCount.to_csv('CountryCount.csv', index=False)\n",
    "    top5.to_csv('Top5_Genres.csv', index=False)\n",
    "    SeasonsResults.to_csv('SeasonsResults.csv', index=False)\n",
    "    \n",
    "    Log_process('Data Successfully Stored into Transformation_Data.csv:')\n",
    "    Log_process('Transformation part Successfully End:')\n",
    "    return df_cleaned"
   ]
  },
  {
   "cell_type": "code",
   "execution_count": 16,
   "id": "1defea8e-29f8-4657-ac3b-49324553a1eb",
   "metadata": {},
   "outputs": [],
   "source": [
    "def Load_to_sql(df):\n",
    "    Log_process('SQL part Successfully Start:')\n",
    "    engine = sal.create_engine('mssql+pyodbc://DESKTOP-DG20VO7\\\\SQLEXPRESS/Netflix?driver=ODBC+DRIVER+17+FOR+SQL+SERVER')\n",
    "    conn = engine.connect()\n",
    "    df.to_sql('Netflix_Data', con=conn, index=False, if_exists='replace')\n",
    "    conn.close()\n",
    "    Log_process('SQL part Successfully End:')"
   ]
  },
  {
   "cell_type": "code",
   "execution_count": 18,
   "id": "57f2b58b-05dd-4cc9-a578-751f59e09df2",
   "metadata": {},
   "outputs": [
    {
     "name": "stdout",
     "output_type": "stream",
     "text": [
      "<class 'pandas.core.frame.DataFrame'>\n",
      "Index: 5332 entries, 7 to 8806\n",
      "Data columns (total 12 columns):\n",
      " #   Column        Non-Null Count  Dtype \n",
      "---  ------        --------------  ----- \n",
      " 0   show_id       5332 non-null   object\n",
      " 1   type          5332 non-null   object\n",
      " 2   title         5332 non-null   object\n",
      " 3   director      5332 non-null   object\n",
      " 4   cast          5332 non-null   object\n",
      " 5   country       5332 non-null   object\n",
      " 6   date_added    5332 non-null   object\n",
      " 7   release_year  5332 non-null   int64 \n",
      " 8   rating        5332 non-null   object\n",
      " 9   duration      5332 non-null   object\n",
      " 10  listed_in     5332 non-null   object\n",
      " 11  description   5332 non-null   object\n",
      "dtypes: int64(1), object(11)\n",
      "memory usage: 541.5+ KB\n"
     ]
    }
   ],
   "source": [
    "if __name__ == '__main__':\n",
    "    csv_path = './netflix_titles.csv'\n",
    "    Log_process('ETL Process Start:')\n",
    "    df = Extract(csv_path)\n",
    "    df1 = Transformation(df)\n",
    "    sql = Load_to_sql(df1)"
   ]
  },
  {
   "cell_type": "code",
   "execution_count": null,
   "id": "afae3615-f8f0-4197-86be-fde6ef01059d",
   "metadata": {},
   "outputs": [],
   "source": []
  }
 ],
 "metadata": {
  "kernelspec": {
   "display_name": "Python 3 (ipykernel)",
   "language": "python",
   "name": "python3"
  },
  "language_info": {
   "codemirror_mode": {
    "name": "ipython",
    "version": 3
   },
   "file_extension": ".py",
   "mimetype": "text/x-python",
   "name": "python",
   "nbconvert_exporter": "python",
   "pygments_lexer": "ipython3",
   "version": "3.11.7"
  }
 },
 "nbformat": 4,
 "nbformat_minor": 5
}
